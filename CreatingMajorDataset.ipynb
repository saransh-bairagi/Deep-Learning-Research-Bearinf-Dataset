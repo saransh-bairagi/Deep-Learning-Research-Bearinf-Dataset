{
 "cells": [
  {
   "cell_type": "code",
   "execution_count": 19,
   "id": "8c0aaab2-aeef-44e4-be6d-1fe21d277615",
   "metadata": {},
   "outputs": [],
   "source": [
    "import pandas as pd\n",
    "import numpy as np\n",
    "import os\n",
    "from matplotlib import pyplot as plt\n",
    "from scipy import stats as st"
   ]
  },
  {
   "cell_type": "code",
   "execution_count": 21,
   "id": "ed88eb6c-481f-4f77-b093-a108815b5e9d",
   "metadata": {},
   "outputs": [
    {
     "data": {
      "text/plain": [
       "'C:\\\\Users\\\\91626\\\\Desktop\\\\Research paper'"
      ]
     },
     "execution_count": 21,
     "metadata": {},
     "output_type": "execute_result"
    }
   ],
   "source": [
    "crw=os.getcwd()\n",
    "crw"
   ]
  },
  {
   "cell_type": "code",
   "execution_count": 25,
   "id": "d6633142-1fd2-4a1a-91e2-3377bcbd4efc",
   "metadata": {},
   "outputs": [],
   "source": [
    "df1=pd.read_csv(os.path.join(crw,\"./inner_race_fault.csv\"))\n",
    "df2=pd.read_csv(os.path.join(crw,\"./Normal_BearingComprisingofall.csv\"))\n",
    "df3=pd.read_csv(os.path.join(crw,\"./outer_race_fault_test_2.csv\"))\n",
    "df4=pd.read_csv(os.path.join(crw,\"./outer_race_fault_test_3.csv\"))\n",
    "df5=pd.read_csv(os.path.join(crw,\"./roller_element_fault.csv\"))\n"
   ]
  },
  {
   "cell_type": "code",
   "execution_count": 31,
   "id": "3ce4d229-9e21-4fbc-aec0-0044b203b8ea",
   "metadata": {},
   "outputs": [],
   "source": [
    "MEGADOC=pd.concat([df1,df2,df3,df4,df5])\n",
    "MEGADOC.to_csv(\"MAJORDATASET.csv\")"
   ]
  },
  {
   "cell_type": "code",
   "execution_count": 27,
   "id": "8efec508-3c04-444d-8377-06ec33b811dd",
   "metadata": {},
   "outputs": [
    {
     "data": {
      "text/html": [
       "<div>\n",
       "<style scoped>\n",
       "    .dataframe tbody tr th:only-of-type {\n",
       "        vertical-align: middle;\n",
       "    }\n",
       "\n",
       "    .dataframe tbody tr th {\n",
       "        vertical-align: top;\n",
       "    }\n",
       "\n",
       "    .dataframe thead th {\n",
       "        text-align: right;\n",
       "    }\n",
       "</style>\n",
       "<table border=\"1\" class=\"dataframe\">\n",
       "  <thead>\n",
       "    <tr style=\"text-align: right;\">\n",
       "      <th></th>\n",
       "      <th>Max</th>\n",
       "      <th>Min</th>\n",
       "      <th>Mean</th>\n",
       "      <th>Std</th>\n",
       "      <th>RMS</th>\n",
       "      <th>Skewness</th>\n",
       "      <th>Kurtosis</th>\n",
       "      <th>Crest Factor</th>\n",
       "      <th>Form Factor</th>\n",
       "      <th>Fault</th>\n",
       "    </tr>\n",
       "  </thead>\n",
       "  <tbody>\n",
       "    <tr>\n",
       "      <th>0</th>\n",
       "      <td>0.427</td>\n",
       "      <td>-0.957</td>\n",
       "      <td>-0.114388</td>\n",
       "      <td>0.113003</td>\n",
       "      <td>0.160790</td>\n",
       "      <td>0.002204</td>\n",
       "      <td>0.748889</td>\n",
       "      <td>2.655631</td>\n",
       "      <td>-1.405658</td>\n",
       "      <td>Inner Race</td>\n",
       "    </tr>\n",
       "    <tr>\n",
       "      <th>1</th>\n",
       "      <td>0.630</td>\n",
       "      <td>-0.854</td>\n",
       "      <td>-0.114292</td>\n",
       "      <td>0.112194</td>\n",
       "      <td>0.160155</td>\n",
       "      <td>-0.017072</td>\n",
       "      <td>0.811215</td>\n",
       "      <td>3.933684</td>\n",
       "      <td>-1.401278</td>\n",
       "      <td>Inner Race</td>\n",
       "    </tr>\n",
       "    <tr>\n",
       "      <th>2</th>\n",
       "      <td>0.645</td>\n",
       "      <td>-0.718</td>\n",
       "      <td>-0.114115</td>\n",
       "      <td>0.111576</td>\n",
       "      <td>0.159596</td>\n",
       "      <td>0.048754</td>\n",
       "      <td>0.529153</td>\n",
       "      <td>4.041466</td>\n",
       "      <td>-1.398555</td>\n",
       "      <td>Inner Race</td>\n",
       "    </tr>\n",
       "    <tr>\n",
       "      <th>3</th>\n",
       "      <td>0.815</td>\n",
       "      <td>-0.728</td>\n",
       "      <td>-0.115024</td>\n",
       "      <td>0.110413</td>\n",
       "      <td>0.159439</td>\n",
       "      <td>0.060862</td>\n",
       "      <td>0.963834</td>\n",
       "      <td>5.111659</td>\n",
       "      <td>-1.386143</td>\n",
       "      <td>Inner Race</td>\n",
       "    </tr>\n",
       "    <tr>\n",
       "      <th>4</th>\n",
       "      <td>0.474</td>\n",
       "      <td>-0.710</td>\n",
       "      <td>-0.115375</td>\n",
       "      <td>0.113216</td>\n",
       "      <td>0.161644</td>\n",
       "      <td>-0.018933</td>\n",
       "      <td>0.650481</td>\n",
       "      <td>2.932379</td>\n",
       "      <td>-1.401027</td>\n",
       "      <td>Inner Race</td>\n",
       "    </tr>\n",
       "  </tbody>\n",
       "</table>\n",
       "</div>"
      ],
      "text/plain": [
       "     Max    Min      Mean       Std       RMS  Skewness  Kurtosis  \\\n",
       "0  0.427 -0.957 -0.114388  0.113003  0.160790  0.002204  0.748889   \n",
       "1  0.630 -0.854 -0.114292  0.112194  0.160155 -0.017072  0.811215   \n",
       "2  0.645 -0.718 -0.114115  0.111576  0.159596  0.048754  0.529153   \n",
       "3  0.815 -0.728 -0.115024  0.110413  0.159439  0.060862  0.963834   \n",
       "4  0.474 -0.710 -0.115375  0.113216  0.161644 -0.018933  0.650481   \n",
       "\n",
       "   Crest Factor  Form Factor       Fault  \n",
       "0      2.655631    -1.405658  Inner Race  \n",
       "1      3.933684    -1.401278  Inner Race  \n",
       "2      4.041466    -1.398555  Inner Race  \n",
       "3      5.111659    -1.386143  Inner Race  \n",
       "4      2.932379    -1.401027  Inner Race  "
      ]
     },
     "execution_count": 27,
     "metadata": {},
     "output_type": "execute_result"
    }
   ],
   "source": [
    "MEGADOC.head()"
   ]
  },
  {
   "cell_type": "code",
   "execution_count": 29,
   "id": "05d44111-a4a0-4b4b-9ed6-5b6250a2aaf0",
   "metadata": {},
   "outputs": [
    {
     "data": {
      "text/plain": [
       "array(['Inner Race', 'Normal', 'Outer Race', 'Roller Element'],\n",
       "      dtype=object)"
      ]
     },
     "execution_count": 29,
     "metadata": {},
     "output_type": "execute_result"
    }
   ],
   "source": [
    "(pd.unique(MEGADOC['Fault']))"
   ]
  },
  {
   "cell_type": "code",
   "execution_count": null,
   "id": "8e1b7114-a077-42d0-b9c2-1143f0aff7b0",
   "metadata": {},
   "outputs": [],
   "source": []
  }
 ],
 "metadata": {
  "kernelspec": {
   "display_name": "Python 3 (ipykernel)",
   "language": "python",
   "name": "python3"
  },
  "language_info": {
   "codemirror_mode": {
    "name": "ipython",
    "version": 3
   },
   "file_extension": ".py",
   "mimetype": "text/x-python",
   "name": "python",
   "nbconvert_exporter": "python",
   "pygments_lexer": "ipython3",
   "version": "3.11.6"
  }
 },
 "nbformat": 4,
 "nbformat_minor": 5
}
